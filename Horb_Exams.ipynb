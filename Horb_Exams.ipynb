{
  "nbformat": 4,
  "nbformat_minor": 0,
  "metadata": {
    "colab": {
      "name": "Horb.Exams.ipynb",
      "provenance": [],
      "include_colab_link": true
    },
    "kernelspec": {
      "name": "python3",
      "display_name": "Python 3"
    },
    "language_info": {
      "name": "python"
    }
  },
  "cells": [
    {
      "cell_type": "markdown",
      "metadata": {
        "id": "view-in-github",
        "colab_type": "text"
      },
      "source": [
        "<a href=\"https://colab.research.google.com/github/Paqui-Ronvaldi/FP2021/blob/main/Horb_Exams.ipynb\" target=\"_parent\"><img src=\"https://colab.research.google.com/assets/colab-badge.svg\" alt=\"Open In Colab\"/></a>"
      ]
    },
    {
      "cell_type": "code",
      "execution_count": 48,
      "metadata": {
        "id": "LYTcKGdw8wXU"
      },
      "outputs": [],
      "source": [
        ""
      ]
    },
    {
      "cell_type": "markdown",
      "source": [
        "Горб Олександр Олександрович\n",
        "ТШІ21\n",
        "Практичне завдання іспиту з дисципліни\n",
        "Методи обробки природномовної інформації\n",
        "13.12.2021\n",
        "Варіант 10\n",
        "\n",
        "Завдання:\n",
        "\n",
        "Розробити Jupyter Notebook для вирішення завдання класифікації тексту на основі набору даних:https://drive.google.com/drive/folders/1cYLsyazwxMUSICumvIhv5jGJe6K7iAHa?usp=sharing\n",
        "\n",
        "Забезпечити виконання наступних етапів:\n",
        "\n",
        "Завантаження та попередній аналіз даних.\n",
        "Створення тренувального та тестувального наборів даних.\n",
        "Попередню оцінку точності моделі за допомогою методу Naive Bayes.\n",
        "Вирішення задачі класифікації за допомогою методу Bidirectional-GRU.\n",
        "Графічне відображення тренування моделі.\n",
        "Порівняння результатів, отриманих у п.п. 3,4\n",
        "Висновки."
      ],
      "metadata": {
        "id": "3Bwm1Z8z9LN8"
      }
    },
    {
      "cell_type": "code",
      "source": [
        "import pandas as pd\n",
        "import random\n",
        "import tensorflow as tf \n",
        "from matplotlib import pyplot as plt\n",
        "\n",
        "from tensorflow.keras.layers.experimental.preprocessing import TextVectorization\n",
        "from tensorflow.keras.layers import Embedding\n",
        "from tensorflow.keras import Sequential\n",
        "from sklearn.model_selection import train_test_split\n",
        "from keras.utils.vis_utils import plot_model\n",
        "from plotly.subplots import make_subplots\n",
        "import plotly.graph_objs as go"
      ],
      "metadata": {
        "id": "VrexFgw89Y11"
      },
      "execution_count": 49,
      "outputs": []
    },
    {
      "cell_type": "markdown",
      "source": [
        "Завантаження та попередній аналіз даних."
      ],
      "metadata": {
        "id": "0tzL8sd19ggi"
      }
    },
    {
      "cell_type": "code",
      "source": [
        "train = pd.read_csv(\"train.csv\")\n",
        "test = pd.read_csv(\"valid.csv\")"
      ],
      "metadata": {
        "id": "u5kqIm-T9jRP"
      },
      "execution_count": 50,
      "outputs": []
    },
    {
      "cell_type": "code",
      "source": [
        "train_df = pd.concat([test,train], ignore_index=True )\n",
        "train_df"
      ],
      "metadata": {
        "id": "RDGcsPe-9oCA",
        "colab": {
          "base_uri": "https://localhost:8080/",
          "height": 424
        },
        "outputId": "74bbd64b-964e-4d48-8ff3-3c9de1d90f44"
      },
      "execution_count": 51,
      "outputs": [
        {
          "output_type": "execute_result",
          "data": {
            "text/html": [
              "<div>\n",
              "<style scoped>\n",
              "    .dataframe tbody tr th:only-of-type {\n",
              "        vertical-align: middle;\n",
              "    }\n",
              "\n",
              "    .dataframe tbody tr th {\n",
              "        vertical-align: top;\n",
              "    }\n",
              "\n",
              "    .dataframe thead th {\n",
              "        text-align: right;\n",
              "    }\n",
              "</style>\n",
              "<table border=\"1\" class=\"dataframe\">\n",
              "  <thead>\n",
              "    <tr style=\"text-align: right;\">\n",
              "      <th></th>\n",
              "      <th>Id</th>\n",
              "      <th>Title</th>\n",
              "      <th>Body</th>\n",
              "      <th>Tags</th>\n",
              "      <th>CreationDate</th>\n",
              "      <th>Y</th>\n",
              "    </tr>\n",
              "  </thead>\n",
              "  <tbody>\n",
              "    <tr>\n",
              "      <th>0</th>\n",
              "      <td>34552974</td>\n",
              "      <td>How to get all the child records from differen...</td>\n",
              "      <td>I am having 4 different tables like \\r\\nselect...</td>\n",
              "      <td>&lt;sql&gt;&lt;sql-server&gt;</td>\n",
              "      <td>2016-01-01 01:44:52</td>\n",
              "      <td>LQ_EDIT</td>\n",
              "    </tr>\n",
              "    <tr>\n",
              "      <th>1</th>\n",
              "      <td>34554721</td>\n",
              "      <td>Retrieve all except some data of the another t...</td>\n",
              "      <td>I have two table m_master and tbl_appointment\\...</td>\n",
              "      <td>&lt;php&gt;&lt;mysql&gt;&lt;sql&gt;&lt;codeigniter&gt;&lt;mysqli&gt;</td>\n",
              "      <td>2016-01-01 08:43:50</td>\n",
              "      <td>LQ_EDIT</td>\n",
              "    </tr>\n",
              "    <tr>\n",
              "      <th>2</th>\n",
              "      <td>34555135</td>\n",
              "      <td>Pandas: read_html</td>\n",
              "      <td>&lt;p&gt;I'm trying to extract US states from wiki U...</td>\n",
              "      <td>&lt;python&gt;&lt;pandas&gt;</td>\n",
              "      <td>2016-01-01 09:55:22</td>\n",
              "      <td>HQ</td>\n",
              "    </tr>\n",
              "    <tr>\n",
              "      <th>3</th>\n",
              "      <td>34555448</td>\n",
              "      <td>Reader Always gimme NULL</td>\n",
              "      <td>I'm so new to C#, I wanna make an application ...</td>\n",
              "      <td>&lt;sql-server&gt;&lt;c#-4.0&gt;</td>\n",
              "      <td>2016-01-01 10:43:45</td>\n",
              "      <td>LQ_EDIT</td>\n",
              "    </tr>\n",
              "    <tr>\n",
              "      <th>4</th>\n",
              "      <td>34555752</td>\n",
              "      <td>php rearrange array elements based on condition</td>\n",
              "      <td>basically i have this array:\\r\\n\\r\\n    array(...</td>\n",
              "      <td>&lt;php&gt;</td>\n",
              "      <td>2016-01-01 11:34:09</td>\n",
              "      <td>LQ_EDIT</td>\n",
              "    </tr>\n",
              "    <tr>\n",
              "      <th>...</th>\n",
              "      <td>...</td>\n",
              "      <td>...</td>\n",
              "      <td>...</td>\n",
              "      <td>...</td>\n",
              "      <td>...</td>\n",
              "      <td>...</td>\n",
              "    </tr>\n",
              "    <tr>\n",
              "      <th>59995</th>\n",
              "      <td>60461435</td>\n",
              "      <td>Convert List&lt;String&gt; to string C# - asp.net - ...</td>\n",
              "      <td>&lt;p&gt;I am new to this and I am asking for help t...</td>\n",
              "      <td>&lt;c#&gt;&lt;asp.net&gt;&lt;sql-server&gt;</td>\n",
              "      <td>2020-02-29 02:22:18</td>\n",
              "      <td>LQ_CLOSE</td>\n",
              "    </tr>\n",
              "    <tr>\n",
              "      <th>59996</th>\n",
              "      <td>60461754</td>\n",
              "      <td>Does Python execute code from the top or botto...</td>\n",
              "      <td>&lt;p&gt;I am working on learning Python and was won...</td>\n",
              "      <td>&lt;python&gt;</td>\n",
              "      <td>2020-02-29 03:33:59</td>\n",
              "      <td>LQ_CLOSE</td>\n",
              "    </tr>\n",
              "    <tr>\n",
              "      <th>59997</th>\n",
              "      <td>60462001</td>\n",
              "      <td>how to change payment date in Azure?</td>\n",
              "      <td>&lt;p&gt;It looks like it costs 8 days per month in ...</td>\n",
              "      <td>&lt;azure&gt;&lt;billing&gt;</td>\n",
              "      <td>2020-02-29 04:34:16</td>\n",
              "      <td>LQ_CLOSE</td>\n",
              "    </tr>\n",
              "    <tr>\n",
              "      <th>59998</th>\n",
              "      <td>60465318</td>\n",
              "      <td>how to implement fill in the blank in Swift</td>\n",
              "      <td>&lt;p&gt;\"I _____ any questions.\"&lt;/p&gt;\\n\\n&lt;p&gt;I want t...</td>\n",
              "      <td>&lt;ios&gt;&lt;swift&gt;</td>\n",
              "      <td>2020-02-29 12:50:43</td>\n",
              "      <td>LQ_CLOSE</td>\n",
              "    </tr>\n",
              "    <tr>\n",
              "      <th>59999</th>\n",
              "      <td>60468018</td>\n",
              "      <td>How can I make a c# application outside of vis...</td>\n",
              "      <td>&lt;p&gt;I'm very new to programming and I'm teachin...</td>\n",
              "      <td>&lt;c#&gt;&lt;visual-studio&gt;</td>\n",
              "      <td>2020-02-29 17:55:56</td>\n",
              "      <td>LQ_CLOSE</td>\n",
              "    </tr>\n",
              "  </tbody>\n",
              "</table>\n",
              "<p>60000 rows × 6 columns</p>\n",
              "</div>"
            ],
            "text/plain": [
              "             Id  ...         Y\n",
              "0      34552974  ...   LQ_EDIT\n",
              "1      34554721  ...   LQ_EDIT\n",
              "2      34555135  ...        HQ\n",
              "3      34555448  ...   LQ_EDIT\n",
              "4      34555752  ...   LQ_EDIT\n",
              "...         ...  ...       ...\n",
              "59995  60461435  ...  LQ_CLOSE\n",
              "59996  60461754  ...  LQ_CLOSE\n",
              "59997  60462001  ...  LQ_CLOSE\n",
              "59998  60465318  ...  LQ_CLOSE\n",
              "59999  60468018  ...  LQ_CLOSE\n",
              "\n",
              "[60000 rows x 6 columns]"
            ]
          },
          "metadata": {},
          "execution_count": 51
        }
      ]
    },
    {
      "cell_type": "code",
      "source": [
        "def classes_def(x):\n",
        "    if x == \"LQ_CLOSE\":\n",
        "        return 0\n",
        "    elif x == \"LQ_EDIT\":\n",
        "        return 1\n",
        "    else:\n",
        "        return 2\n",
        "    \n",
        "train_df['target'] = train_df['Y'].apply(lambda x:classes_def(x))"
      ],
      "metadata": {
        "id": "EXjK4rTrE9ov"
      },
      "execution_count": 52,
      "outputs": []
    },
    {
      "cell_type": "code",
      "source": [
        "train_df"
      ],
      "metadata": {
        "colab": {
          "base_uri": "https://localhost:8080/",
          "height": 424
        },
        "id": "rFVK2iIQFblf",
        "outputId": "9b575d90-a02a-4b38-cfb2-12979d1e7d7a"
      },
      "execution_count": 53,
      "outputs": [
        {
          "output_type": "execute_result",
          "data": {
            "text/html": [
              "<div>\n",
              "<style scoped>\n",
              "    .dataframe tbody tr th:only-of-type {\n",
              "        vertical-align: middle;\n",
              "    }\n",
              "\n",
              "    .dataframe tbody tr th {\n",
              "        vertical-align: top;\n",
              "    }\n",
              "\n",
              "    .dataframe thead th {\n",
              "        text-align: right;\n",
              "    }\n",
              "</style>\n",
              "<table border=\"1\" class=\"dataframe\">\n",
              "  <thead>\n",
              "    <tr style=\"text-align: right;\">\n",
              "      <th></th>\n",
              "      <th>Id</th>\n",
              "      <th>Title</th>\n",
              "      <th>Body</th>\n",
              "      <th>Tags</th>\n",
              "      <th>CreationDate</th>\n",
              "      <th>Y</th>\n",
              "      <th>target</th>\n",
              "    </tr>\n",
              "  </thead>\n",
              "  <tbody>\n",
              "    <tr>\n",
              "      <th>0</th>\n",
              "      <td>34552974</td>\n",
              "      <td>How to get all the child records from differen...</td>\n",
              "      <td>I am having 4 different tables like \\r\\nselect...</td>\n",
              "      <td>&lt;sql&gt;&lt;sql-server&gt;</td>\n",
              "      <td>2016-01-01 01:44:52</td>\n",
              "      <td>LQ_EDIT</td>\n",
              "      <td>1</td>\n",
              "    </tr>\n",
              "    <tr>\n",
              "      <th>1</th>\n",
              "      <td>34554721</td>\n",
              "      <td>Retrieve all except some data of the another t...</td>\n",
              "      <td>I have two table m_master and tbl_appointment\\...</td>\n",
              "      <td>&lt;php&gt;&lt;mysql&gt;&lt;sql&gt;&lt;codeigniter&gt;&lt;mysqli&gt;</td>\n",
              "      <td>2016-01-01 08:43:50</td>\n",
              "      <td>LQ_EDIT</td>\n",
              "      <td>1</td>\n",
              "    </tr>\n",
              "    <tr>\n",
              "      <th>2</th>\n",
              "      <td>34555135</td>\n",
              "      <td>Pandas: read_html</td>\n",
              "      <td>&lt;p&gt;I'm trying to extract US states from wiki U...</td>\n",
              "      <td>&lt;python&gt;&lt;pandas&gt;</td>\n",
              "      <td>2016-01-01 09:55:22</td>\n",
              "      <td>HQ</td>\n",
              "      <td>2</td>\n",
              "    </tr>\n",
              "    <tr>\n",
              "      <th>3</th>\n",
              "      <td>34555448</td>\n",
              "      <td>Reader Always gimme NULL</td>\n",
              "      <td>I'm so new to C#, I wanna make an application ...</td>\n",
              "      <td>&lt;sql-server&gt;&lt;c#-4.0&gt;</td>\n",
              "      <td>2016-01-01 10:43:45</td>\n",
              "      <td>LQ_EDIT</td>\n",
              "      <td>1</td>\n",
              "    </tr>\n",
              "    <tr>\n",
              "      <th>4</th>\n",
              "      <td>34555752</td>\n",
              "      <td>php rearrange array elements based on condition</td>\n",
              "      <td>basically i have this array:\\r\\n\\r\\n    array(...</td>\n",
              "      <td>&lt;php&gt;</td>\n",
              "      <td>2016-01-01 11:34:09</td>\n",
              "      <td>LQ_EDIT</td>\n",
              "      <td>1</td>\n",
              "    </tr>\n",
              "    <tr>\n",
              "      <th>...</th>\n",
              "      <td>...</td>\n",
              "      <td>...</td>\n",
              "      <td>...</td>\n",
              "      <td>...</td>\n",
              "      <td>...</td>\n",
              "      <td>...</td>\n",
              "      <td>...</td>\n",
              "    </tr>\n",
              "    <tr>\n",
              "      <th>59995</th>\n",
              "      <td>60461435</td>\n",
              "      <td>Convert List&lt;String&gt; to string C# - asp.net - ...</td>\n",
              "      <td>&lt;p&gt;I am new to this and I am asking for help t...</td>\n",
              "      <td>&lt;c#&gt;&lt;asp.net&gt;&lt;sql-server&gt;</td>\n",
              "      <td>2020-02-29 02:22:18</td>\n",
              "      <td>LQ_CLOSE</td>\n",
              "      <td>0</td>\n",
              "    </tr>\n",
              "    <tr>\n",
              "      <th>59996</th>\n",
              "      <td>60461754</td>\n",
              "      <td>Does Python execute code from the top or botto...</td>\n",
              "      <td>&lt;p&gt;I am working on learning Python and was won...</td>\n",
              "      <td>&lt;python&gt;</td>\n",
              "      <td>2020-02-29 03:33:59</td>\n",
              "      <td>LQ_CLOSE</td>\n",
              "      <td>0</td>\n",
              "    </tr>\n",
              "    <tr>\n",
              "      <th>59997</th>\n",
              "      <td>60462001</td>\n",
              "      <td>how to change payment date in Azure?</td>\n",
              "      <td>&lt;p&gt;It looks like it costs 8 days per month in ...</td>\n",
              "      <td>&lt;azure&gt;&lt;billing&gt;</td>\n",
              "      <td>2020-02-29 04:34:16</td>\n",
              "      <td>LQ_CLOSE</td>\n",
              "      <td>0</td>\n",
              "    </tr>\n",
              "    <tr>\n",
              "      <th>59998</th>\n",
              "      <td>60465318</td>\n",
              "      <td>how to implement fill in the blank in Swift</td>\n",
              "      <td>&lt;p&gt;\"I _____ any questions.\"&lt;/p&gt;\\n\\n&lt;p&gt;I want t...</td>\n",
              "      <td>&lt;ios&gt;&lt;swift&gt;</td>\n",
              "      <td>2020-02-29 12:50:43</td>\n",
              "      <td>LQ_CLOSE</td>\n",
              "      <td>0</td>\n",
              "    </tr>\n",
              "    <tr>\n",
              "      <th>59999</th>\n",
              "      <td>60468018</td>\n",
              "      <td>How can I make a c# application outside of vis...</td>\n",
              "      <td>&lt;p&gt;I'm very new to programming and I'm teachin...</td>\n",
              "      <td>&lt;c#&gt;&lt;visual-studio&gt;</td>\n",
              "      <td>2020-02-29 17:55:56</td>\n",
              "      <td>LQ_CLOSE</td>\n",
              "      <td>0</td>\n",
              "    </tr>\n",
              "  </tbody>\n",
              "</table>\n",
              "<p>60000 rows × 7 columns</p>\n",
              "</div>"
            ],
            "text/plain": [
              "             Id  ... target\n",
              "0      34552974  ...      1\n",
              "1      34554721  ...      1\n",
              "2      34555135  ...      2\n",
              "3      34555448  ...      1\n",
              "4      34555752  ...      1\n",
              "...         ...  ...    ...\n",
              "59995  60461435  ...      0\n",
              "59996  60461754  ...      0\n",
              "59997  60462001  ...      0\n",
              "59998  60465318  ...      0\n",
              "59999  60468018  ...      0\n",
              "\n",
              "[60000 rows x 7 columns]"
            ]
          },
          "metadata": {},
          "execution_count": 53
        }
      ]
    },
    {
      "cell_type": "markdown",
      "source": [
        "Допоміжні функції"
      ],
      "metadata": {
        "id": "BsJNLM2M-B_2"
      }
    },
    {
      "cell_type": "code",
      "source": [
        "from sklearn.metrics import accuracy_score, precision_recall_fscore_support\n",
        "\n",
        "def calculate_results(y_true, y_pred):\n",
        "  \"\"\"\n",
        "  Обчислює accuracy, precision, recall and f1 моделі.\n",
        "\n",
        "  Аргументи:\n",
        "  -----\n",
        "  y_true = реальні значення класу у вигляді 1-мірного масиву\n",
        "  y_pred = прогнозовані значення класу у вигляді 1-мірного масиву\n",
        "\n",
        "  Повертає словник зі значеннями accuracy, precision, recall, f1-score.\n",
        "  \"\"\"\n",
        "\n",
        "  model_accuracy = accuracy_score(y_true, y_pred) * 100\n",
        "\n",
        "  model_precision, model_recall, model_f1, _ = precision_recall_fscore_support(y_true, y_pred, average=\"weighted\")\n",
        "  model_results = {\"accuracy\": model_accuracy,\n",
        "                  \"precision\": model_precision,\n",
        "                  \"recall\": model_recall,\n",
        "                  \"f1\": model_f1}\n",
        "  return model_results"
      ],
      "metadata": {
        "id": "ujQNqiFw-GFy"
      },
      "execution_count": 54,
      "outputs": []
    },
    {
      "cell_type": "code",
      "source": [
        "def compare_baseline_to_new_results(baseline_results, new_model_results):\n",
        "  \"\"\"\n",
        "  Виводить accuracy, precision, recall, f1  базової моделі та заданої моделі і різницю цих значень \n",
        "\n",
        "  Аргументи:\n",
        "  -----\n",
        "  baseline_results = словник зі значеннями accuracy, precision, recall, f1 для базової моделі\n",
        "  new_model_results = словник зі значеннями accuracy, precision, recall, f1 для заданої моделі\n",
        "  -----\n",
        "  \n",
        "  \"\"\"\n",
        "  for key, value in baseline_results.items():\n",
        "    print(f\"Baseline {key}: {value:.2f}, New {key}: {new_model_results[key]:.2f}, Difference: {new_model_results[key]-value:.2f}\")"
      ],
      "metadata": {
        "id": "snABVWpz-KOw"
      },
      "execution_count": 55,
      "outputs": []
    },
    {
      "cell_type": "code",
      "source": [
        "def plot_history(history): \n",
        "    \"\"\"\n",
        "    Виводить графіки точності та втрат\n",
        "\n",
        "    Аргументи:\n",
        "    -----\n",
        "    history - обʼєкт, зберігає значення функції витрат та інші метрики для кожної епохи\n",
        "    -----\n",
        "\n",
        "    \"\"\"\n",
        "    plt.plot(history.history['accuracy'],marker = 'o')\n",
        "    plt.plot(history.history['val_accuracy'],marker = 'o')\n",
        "    plt.title('Точність моделі')\n",
        "    plt.ylabel('точність')\n",
        "    plt.xlabel('епоха')\n",
        "    plt.legend(['Тренувальна', 'Перевірочна'], \n",
        "               loc='upper center', bbox_to_anchor=(0.5, -0.2),\n",
        "               title = 'Вибірка',\n",
        "               fancybox=True, shadow=True, ncol=2)\n",
        "    plt.show()\n",
        "    plt.plot(history.history['loss'],marker = 'o')\n",
        "    plt.plot(history.history['val_loss'],marker = 'o')\n",
        "    plt.title('Втрати моделі')\n",
        "    plt.ylabel('втрати')\n",
        "    plt.xlabel('епоха')\n",
        "    plt.legend(['Тренувальна', 'Перевірочна'],\n",
        "               loc='upper center', bbox_to_anchor=(0.5, -0.2),\n",
        "               title = 'Вибірка',\n",
        "               fancybox=True, shadow=True, ncol=2)\n",
        "    plt.show()"
      ],
      "metadata": {
        "id": "noZeD2X2-OjR"
      },
      "execution_count": 56,
      "outputs": []
    },
    {
      "cell_type": "markdown",
      "source": [
        "Створення тренувального та тестувального наборів даних."
      ],
      "metadata": {
        "id": "FkpM--s--TO4"
      }
    },
    {
      "cell_type": "code",
      "source": [
        "train_shuffle=train_df[[\"Title\",\"target\"]].sample(frac=1,random_state=9) \n",
        "train_shuffle.head(10)"
      ],
      "metadata": {
        "id": "XAb87KtS-U-x",
        "outputId": "e93a1930-b260-4821-d82c-e2daaeaee7af",
        "colab": {
          "base_uri": "https://localhost:8080/",
          "height": 363
        }
      },
      "execution_count": 57,
      "outputs": [
        {
          "output_type": "execute_result",
          "data": {
            "text/html": [
              "<div>\n",
              "<style scoped>\n",
              "    .dataframe tbody tr th:only-of-type {\n",
              "        vertical-align: middle;\n",
              "    }\n",
              "\n",
              "    .dataframe tbody tr th {\n",
              "        vertical-align: top;\n",
              "    }\n",
              "\n",
              "    .dataframe thead th {\n",
              "        text-align: right;\n",
              "    }\n",
              "</style>\n",
              "<table border=\"1\" class=\"dataframe\">\n",
              "  <thead>\n",
              "    <tr style=\"text-align: right;\">\n",
              "      <th></th>\n",
              "      <th>Title</th>\n",
              "      <th>target</th>\n",
              "    </tr>\n",
              "  </thead>\n",
              "  <tbody>\n",
              "    <tr>\n",
              "      <th>13131</th>\n",
              "      <td>Unable to change the string to timestamp in Py...</td>\n",
              "      <td>1</td>\n",
              "    </tr>\n",
              "    <tr>\n",
              "      <th>14170</th>\n",
              "      <td>how to shift the border of a text?</td>\n",
              "      <td>1</td>\n",
              "    </tr>\n",
              "    <tr>\n",
              "      <th>37932</th>\n",
              "      <td>How to retrieve MongoDb collection validator r...</td>\n",
              "      <td>2</td>\n",
              "    </tr>\n",
              "    <tr>\n",
              "      <th>50105</th>\n",
              "      <td>Tail command without permission in Linux</td>\n",
              "      <td>0</td>\n",
              "    </tr>\n",
              "    <tr>\n",
              "      <th>40269</th>\n",
              "      <td>Building Android Automotive from source</td>\n",
              "      <td>2</td>\n",
              "    </tr>\n",
              "    <tr>\n",
              "      <th>11929</th>\n",
              "      <td>Notepad++ Regex cut last word of line and past...</td>\n",
              "      <td>0</td>\n",
              "    </tr>\n",
              "    <tr>\n",
              "      <th>52723</th>\n",
              "      <td>Abstract base class design in GoLang vs C++</td>\n",
              "      <td>1</td>\n",
              "    </tr>\n",
              "    <tr>\n",
              "      <th>58524</th>\n",
              "      <td>Is there a better solution to this JavaScript ...</td>\n",
              "      <td>1</td>\n",
              "    </tr>\n",
              "    <tr>\n",
              "      <th>46502</th>\n",
              "      <td>Disable Upgrade-Insecure-Requests in Firefox a...</td>\n",
              "      <td>2</td>\n",
              "    </tr>\n",
              "    <tr>\n",
              "      <th>42902</th>\n",
              "      <td>c# string.CompareOrdinal vs operator ==</td>\n",
              "      <td>0</td>\n",
              "    </tr>\n",
              "  </tbody>\n",
              "</table>\n",
              "</div>"
            ],
            "text/plain": [
              "                                                   Title  target\n",
              "13131  Unable to change the string to timestamp in Py...       1\n",
              "14170                 how to shift the border of a text?       1\n",
              "37932  How to retrieve MongoDb collection validator r...       2\n",
              "50105           Tail command without permission in Linux       0\n",
              "40269            Building Android Automotive from source       2\n",
              "11929  Notepad++ Regex cut last word of line and past...       0\n",
              "52723        Abstract base class design in GoLang vs C++       1\n",
              "58524  Is there a better solution to this JavaScript ...       1\n",
              "46502  Disable Upgrade-Insecure-Requests in Firefox a...       2\n",
              "42902            c# string.CompareOrdinal vs operator ==       0"
            ]
          },
          "metadata": {},
          "execution_count": 57
        }
      ]
    },
    {
      "cell_type": "code",
      "source": [
        "train_shuffle.target.value_counts()"
      ],
      "metadata": {
        "id": "wSX5-PWR_zto",
        "colab": {
          "base_uri": "https://localhost:8080/"
        },
        "outputId": "ec98be13-c005-4684-85fa-120b5ebb50d4"
      },
      "execution_count": 58,
      "outputs": [
        {
          "output_type": "execute_result",
          "data": {
            "text/plain": [
              "2    20000\n",
              "1    20000\n",
              "0    20000\n",
              "Name: target, dtype: int64"
            ]
          },
          "metadata": {},
          "execution_count": 58
        }
      ]
    },
    {
      "cell_type": "code",
      "source": [
        "train, test = train_test_split(\n",
        "    train_shuffle,\n",
        "    test_size=0.1\n",
        ")"
      ],
      "metadata": {
        "id": "FiRCLvZE_2iB"
      },
      "execution_count": 59,
      "outputs": []
    },
    {
      "cell_type": "code",
      "source": [
        "fig=make_subplots(1,2,subplot_titles=('Train set','Test set'))\n",
        "x=train.target.value_counts()\n",
        "fig.add_trace(go.Bar(x=x.index,y=x.values,marker_color=['#17C37B','#F92969','#FACA0C'],name='train'),row=1,col=1)\n",
        "x=test.target.value_counts()\n",
        "fig.add_trace(go.Bar(x=x.index,y=x.values,marker_color=['#17C37B','#F92969','#FACA0C'],name='test'),row=1,col=2)"
      ],
      "metadata": {
        "id": "KJrq7IYg_7tC",
        "colab": {
          "base_uri": "https://localhost:8080/",
          "height": 542
        },
        "outputId": "b117ee65-c45f-4301-f681-3140725601eb"
      },
      "execution_count": 60,
      "outputs": [
        {
          "output_type": "display_data",
          "data": {
            "text/html": [
              "<html>\n",
              "<head><meta charset=\"utf-8\" /></head>\n",
              "<body>\n",
              "    <div>\n",
              "            <script src=\"https://cdnjs.cloudflare.com/ajax/libs/mathjax/2.7.5/MathJax.js?config=TeX-AMS-MML_SVG\"></script><script type=\"text/javascript\">if (window.MathJax) {MathJax.Hub.Config({SVG: {font: \"STIX-Web\"}});}</script>\n",
              "                <script type=\"text/javascript\">window.PlotlyConfig = {MathJaxConfig: 'local'};</script>\n",
              "        <script src=\"https://cdn.plot.ly/plotly-latest.min.js\"></script>    \n",
              "            <div id=\"34dda4d9-8b68-41bb-9378-4523899a06de\" class=\"plotly-graph-div\" style=\"height:525px; width:100%;\"></div>\n",
              "            <script type=\"text/javascript\">\n",
              "                \n",
              "                    window.PLOTLYENV=window.PLOTLYENV || {};\n",
              "                    \n",
              "                if (document.getElementById(\"34dda4d9-8b68-41bb-9378-4523899a06de\")) {\n",
              "                    Plotly.newPlot(\n",
              "                        '34dda4d9-8b68-41bb-9378-4523899a06de',\n",
              "                        [{\"marker\": {\"color\": [\"#17C37B\", \"#F92969\", \"#FACA0C\"]}, \"name\": \"train\", \"type\": \"bar\", \"x\": [1, 2, 0], \"xaxis\": \"x\", \"y\": [18050, 17994, 17956], \"yaxis\": \"y\"}, {\"marker\": {\"color\": [\"#17C37B\", \"#F92969\", \"#FACA0C\"]}, \"name\": \"test\", \"type\": \"bar\", \"x\": [0, 2, 1], \"xaxis\": \"x2\", \"y\": [2044, 2006, 1950], \"yaxis\": \"y2\"}],\n",
              "                        {\"annotations\": [{\"font\": {\"size\": 16}, \"showarrow\": false, \"text\": \"Train set\", \"x\": 0.225, \"xanchor\": \"center\", \"xref\": \"paper\", \"y\": 1.0, \"yanchor\": \"bottom\", \"yref\": \"paper\"}, {\"font\": {\"size\": 16}, \"showarrow\": false, \"text\": \"Test set\", \"x\": 0.775, \"xanchor\": \"center\", \"xref\": \"paper\", \"y\": 1.0, \"yanchor\": \"bottom\", \"yref\": \"paper\"}], \"template\": {\"data\": {\"bar\": [{\"error_x\": {\"color\": \"#2a3f5f\"}, \"error_y\": {\"color\": \"#2a3f5f\"}, \"marker\": {\"line\": {\"color\": \"#E5ECF6\", \"width\": 0.5}}, \"type\": \"bar\"}], \"barpolar\": [{\"marker\": {\"line\": {\"color\": \"#E5ECF6\", \"width\": 0.5}}, \"type\": \"barpolar\"}], \"carpet\": [{\"aaxis\": {\"endlinecolor\": \"#2a3f5f\", \"gridcolor\": \"white\", \"linecolor\": \"white\", \"minorgridcolor\": \"white\", \"startlinecolor\": \"#2a3f5f\"}, \"baxis\": {\"endlinecolor\": \"#2a3f5f\", \"gridcolor\": \"white\", \"linecolor\": \"white\", \"minorgridcolor\": \"white\", \"startlinecolor\": \"#2a3f5f\"}, \"type\": \"carpet\"}], \"choropleth\": [{\"colorbar\": {\"outlinewidth\": 0, \"ticks\": \"\"}, \"type\": \"choropleth\"}], \"contour\": [{\"colorbar\": {\"outlinewidth\": 0, \"ticks\": \"\"}, \"colorscale\": [[0.0, \"#0d0887\"], [0.1111111111111111, \"#46039f\"], [0.2222222222222222, \"#7201a8\"], [0.3333333333333333, \"#9c179e\"], [0.4444444444444444, \"#bd3786\"], [0.5555555555555556, \"#d8576b\"], [0.6666666666666666, \"#ed7953\"], [0.7777777777777778, \"#fb9f3a\"], [0.8888888888888888, \"#fdca26\"], [1.0, \"#f0f921\"]], \"type\": \"contour\"}], \"contourcarpet\": [{\"colorbar\": {\"outlinewidth\": 0, \"ticks\": \"\"}, \"type\": \"contourcarpet\"}], \"heatmap\": [{\"colorbar\": {\"outlinewidth\": 0, \"ticks\": \"\"}, \"colorscale\": [[0.0, \"#0d0887\"], [0.1111111111111111, \"#46039f\"], [0.2222222222222222, \"#7201a8\"], [0.3333333333333333, \"#9c179e\"], [0.4444444444444444, \"#bd3786\"], [0.5555555555555556, \"#d8576b\"], [0.6666666666666666, \"#ed7953\"], [0.7777777777777778, \"#fb9f3a\"], [0.8888888888888888, \"#fdca26\"], [1.0, \"#f0f921\"]], \"type\": \"heatmap\"}], \"heatmapgl\": [{\"colorbar\": {\"outlinewidth\": 0, \"ticks\": \"\"}, \"colorscale\": [[0.0, \"#0d0887\"], [0.1111111111111111, \"#46039f\"], [0.2222222222222222, \"#7201a8\"], [0.3333333333333333, \"#9c179e\"], [0.4444444444444444, \"#bd3786\"], [0.5555555555555556, \"#d8576b\"], [0.6666666666666666, \"#ed7953\"], [0.7777777777777778, \"#fb9f3a\"], [0.8888888888888888, \"#fdca26\"], [1.0, \"#f0f921\"]], \"type\": \"heatmapgl\"}], \"histogram\": [{\"marker\": {\"colorbar\": {\"outlinewidth\": 0, \"ticks\": \"\"}}, \"type\": \"histogram\"}], \"histogram2d\": [{\"colorbar\": {\"outlinewidth\": 0, \"ticks\": \"\"}, \"colorscale\": [[0.0, \"#0d0887\"], [0.1111111111111111, \"#46039f\"], [0.2222222222222222, \"#7201a8\"], [0.3333333333333333, \"#9c179e\"], [0.4444444444444444, \"#bd3786\"], [0.5555555555555556, \"#d8576b\"], [0.6666666666666666, \"#ed7953\"], [0.7777777777777778, \"#fb9f3a\"], [0.8888888888888888, \"#fdca26\"], [1.0, \"#f0f921\"]], \"type\": \"histogram2d\"}], \"histogram2dcontour\": [{\"colorbar\": {\"outlinewidth\": 0, \"ticks\": \"\"}, \"colorscale\": [[0.0, \"#0d0887\"], [0.1111111111111111, \"#46039f\"], [0.2222222222222222, \"#7201a8\"], [0.3333333333333333, \"#9c179e\"], [0.4444444444444444, \"#bd3786\"], [0.5555555555555556, \"#d8576b\"], [0.6666666666666666, \"#ed7953\"], [0.7777777777777778, \"#fb9f3a\"], [0.8888888888888888, \"#fdca26\"], [1.0, \"#f0f921\"]], \"type\": \"histogram2dcontour\"}], \"mesh3d\": [{\"colorbar\": {\"outlinewidth\": 0, \"ticks\": \"\"}, \"type\": \"mesh3d\"}], \"parcoords\": [{\"line\": {\"colorbar\": {\"outlinewidth\": 0, \"ticks\": \"\"}}, \"type\": \"parcoords\"}], \"pie\": [{\"automargin\": true, \"type\": \"pie\"}], \"scatter\": [{\"marker\": {\"colorbar\": {\"outlinewidth\": 0, \"ticks\": \"\"}}, \"type\": \"scatter\"}], \"scatter3d\": [{\"line\": {\"colorbar\": {\"outlinewidth\": 0, \"ticks\": \"\"}}, \"marker\": {\"colorbar\": {\"outlinewidth\": 0, \"ticks\": \"\"}}, \"type\": \"scatter3d\"}], \"scattercarpet\": [{\"marker\": {\"colorbar\": {\"outlinewidth\": 0, \"ticks\": \"\"}}, \"type\": \"scattercarpet\"}], \"scattergeo\": [{\"marker\": {\"colorbar\": {\"outlinewidth\": 0, \"ticks\": \"\"}}, \"type\": \"scattergeo\"}], \"scattergl\": [{\"marker\": {\"colorbar\": {\"outlinewidth\": 0, \"ticks\": \"\"}}, \"type\": \"scattergl\"}], \"scattermapbox\": [{\"marker\": {\"colorbar\": {\"outlinewidth\": 0, \"ticks\": \"\"}}, \"type\": \"scattermapbox\"}], \"scatterpolar\": [{\"marker\": {\"colorbar\": {\"outlinewidth\": 0, \"ticks\": \"\"}}, \"type\": \"scatterpolar\"}], \"scatterpolargl\": [{\"marker\": {\"colorbar\": {\"outlinewidth\": 0, \"ticks\": \"\"}}, \"type\": \"scatterpolargl\"}], \"scatterternary\": [{\"marker\": {\"colorbar\": {\"outlinewidth\": 0, \"ticks\": \"\"}}, \"type\": \"scatterternary\"}], \"surface\": [{\"colorbar\": {\"outlinewidth\": 0, \"ticks\": \"\"}, \"colorscale\": [[0.0, \"#0d0887\"], [0.1111111111111111, \"#46039f\"], [0.2222222222222222, \"#7201a8\"], [0.3333333333333333, \"#9c179e\"], [0.4444444444444444, \"#bd3786\"], [0.5555555555555556, \"#d8576b\"], [0.6666666666666666, \"#ed7953\"], [0.7777777777777778, \"#fb9f3a\"], [0.8888888888888888, \"#fdca26\"], [1.0, \"#f0f921\"]], \"type\": \"surface\"}], \"table\": [{\"cells\": {\"fill\": {\"color\": \"#EBF0F8\"}, \"line\": {\"color\": \"white\"}}, \"header\": {\"fill\": {\"color\": \"#C8D4E3\"}, \"line\": {\"color\": \"white\"}}, \"type\": \"table\"}]}, \"layout\": {\"annotationdefaults\": {\"arrowcolor\": \"#2a3f5f\", \"arrowhead\": 0, \"arrowwidth\": 1}, \"coloraxis\": {\"colorbar\": {\"outlinewidth\": 0, \"ticks\": \"\"}}, \"colorscale\": {\"diverging\": [[0, \"#8e0152\"], [0.1, \"#c51b7d\"], [0.2, \"#de77ae\"], [0.3, \"#f1b6da\"], [0.4, \"#fde0ef\"], [0.5, \"#f7f7f7\"], [0.6, \"#e6f5d0\"], [0.7, \"#b8e186\"], [0.8, \"#7fbc41\"], [0.9, \"#4d9221\"], [1, \"#276419\"]], \"sequential\": [[0.0, \"#0d0887\"], [0.1111111111111111, \"#46039f\"], [0.2222222222222222, \"#7201a8\"], [0.3333333333333333, \"#9c179e\"], [0.4444444444444444, \"#bd3786\"], [0.5555555555555556, \"#d8576b\"], [0.6666666666666666, \"#ed7953\"], [0.7777777777777778, \"#fb9f3a\"], [0.8888888888888888, \"#fdca26\"], [1.0, \"#f0f921\"]], \"sequentialminus\": [[0.0, \"#0d0887\"], [0.1111111111111111, \"#46039f\"], [0.2222222222222222, \"#7201a8\"], [0.3333333333333333, \"#9c179e\"], [0.4444444444444444, \"#bd3786\"], [0.5555555555555556, \"#d8576b\"], [0.6666666666666666, \"#ed7953\"], [0.7777777777777778, \"#fb9f3a\"], [0.8888888888888888, \"#fdca26\"], [1.0, \"#f0f921\"]]}, \"colorway\": [\"#636efa\", \"#EF553B\", \"#00cc96\", \"#ab63fa\", \"#FFA15A\", \"#19d3f3\", \"#FF6692\", \"#B6E880\", \"#FF97FF\", \"#FECB52\"], \"font\": {\"color\": \"#2a3f5f\"}, \"geo\": {\"bgcolor\": \"white\", \"lakecolor\": \"white\", \"landcolor\": \"#E5ECF6\", \"showlakes\": true, \"showland\": true, \"subunitcolor\": \"white\"}, \"hoverlabel\": {\"align\": \"left\"}, \"hovermode\": \"closest\", \"mapbox\": {\"style\": \"light\"}, \"paper_bgcolor\": \"white\", \"plot_bgcolor\": \"#E5ECF6\", \"polar\": {\"angularaxis\": {\"gridcolor\": \"white\", \"linecolor\": \"white\", \"ticks\": \"\"}, \"bgcolor\": \"#E5ECF6\", \"radialaxis\": {\"gridcolor\": \"white\", \"linecolor\": \"white\", \"ticks\": \"\"}}, \"scene\": {\"xaxis\": {\"backgroundcolor\": \"#E5ECF6\", \"gridcolor\": \"white\", \"gridwidth\": 2, \"linecolor\": \"white\", \"showbackground\": true, \"ticks\": \"\", \"zerolinecolor\": \"white\"}, \"yaxis\": {\"backgroundcolor\": \"#E5ECF6\", \"gridcolor\": \"white\", \"gridwidth\": 2, \"linecolor\": \"white\", \"showbackground\": true, \"ticks\": \"\", \"zerolinecolor\": \"white\"}, \"zaxis\": {\"backgroundcolor\": \"#E5ECF6\", \"gridcolor\": \"white\", \"gridwidth\": 2, \"linecolor\": \"white\", \"showbackground\": true, \"ticks\": \"\", \"zerolinecolor\": \"white\"}}, \"shapedefaults\": {\"line\": {\"color\": \"#2a3f5f\"}}, \"ternary\": {\"aaxis\": {\"gridcolor\": \"white\", \"linecolor\": \"white\", \"ticks\": \"\"}, \"baxis\": {\"gridcolor\": \"white\", \"linecolor\": \"white\", \"ticks\": \"\"}, \"bgcolor\": \"#E5ECF6\", \"caxis\": {\"gridcolor\": \"white\", \"linecolor\": \"white\", \"ticks\": \"\"}}, \"title\": {\"x\": 0.05}, \"xaxis\": {\"automargin\": true, \"gridcolor\": \"white\", \"linecolor\": \"white\", \"ticks\": \"\", \"title\": {\"standoff\": 15}, \"zerolinecolor\": \"white\", \"zerolinewidth\": 2}, \"yaxis\": {\"automargin\": true, \"gridcolor\": \"white\", \"linecolor\": \"white\", \"ticks\": \"\", \"title\": {\"standoff\": 15}, \"zerolinecolor\": \"white\", \"zerolinewidth\": 2}}}, \"xaxis\": {\"anchor\": \"y\", \"domain\": [0.0, 0.45]}, \"xaxis2\": {\"anchor\": \"y2\", \"domain\": [0.55, 1.0]}, \"yaxis\": {\"anchor\": \"x\", \"domain\": [0.0, 1.0]}, \"yaxis2\": {\"anchor\": \"x2\", \"domain\": [0.0, 1.0]}},\n",
              "                        {\"responsive\": true}\n",
              "                    ).then(function(){\n",
              "                            \n",
              "var gd = document.getElementById('34dda4d9-8b68-41bb-9378-4523899a06de');\n",
              "var x = new MutationObserver(function (mutations, observer) {{\n",
              "        var display = window.getComputedStyle(gd).display;\n",
              "        if (!display || display === 'none') {{\n",
              "            console.log([gd, 'removed!']);\n",
              "            Plotly.purge(gd);\n",
              "            observer.disconnect();\n",
              "        }}\n",
              "}});\n",
              "\n",
              "// Listen for the removal of the full notebook cells\n",
              "var notebookContainer = gd.closest('#notebook-container');\n",
              "if (notebookContainer) {{\n",
              "    x.observe(notebookContainer, {childList: true});\n",
              "}}\n",
              "\n",
              "// Listen for the clearing of the current output cell\n",
              "var outputEl = gd.closest('.output');\n",
              "if (outputEl) {{\n",
              "    x.observe(outputEl, {childList: true});\n",
              "}}\n",
              "\n",
              "                        })\n",
              "                };\n",
              "                \n",
              "            </script>\n",
              "        </div>\n",
              "</body>\n",
              "</html>"
            ]
          },
          "metadata": {}
        }
      ]
    },
    {
      "cell_type": "code",
      "source": [
        "train_sentences = train[\"Title\"]\n",
        "train_labels = train[\"target\"]\n",
        "test_sentences = test[\"Title\"]\n",
        "test_labels = test[\"target\"]"
      ],
      "metadata": {
        "id": "H_COe6QTAAuZ"
      },
      "execution_count": 61,
      "outputs": []
    },
    {
      "cell_type": "code",
      "source": [
        "max_sq_len = round(sum([len(i.split()) for i in train_sentences])/len(train_sentences))\n",
        "text_vectorizer = TextVectorization(max_tokens=10000, \n",
        "                                    standardize=\"lower_and_strip_punctuation\", \n",
        "                                    split =\"whitespace\",\n",
        "                                    output_mode=\"int\",\n",
        "                                    output_sequence_length=max_sq_len,\n",
        "                                    pad_to_max_tokens=True)"
      ],
      "metadata": {
        "id": "ewSZsdlNAENr"
      },
      "execution_count": 62,
      "outputs": []
    },
    {
      "cell_type": "code",
      "source": [
        "text_vectorizer.adapt(train_sentences)"
      ],
      "metadata": {
        "id": "IQxfDNfmAH_J"
      },
      "execution_count": 63,
      "outputs": []
    },
    {
      "cell_type": "code",
      "source": [
        "embedding = Embedding(\n",
        "                        input_dim=10000, \n",
        "                        output_dim=128, \n",
        "                        input_length=max_sq_len, \n",
        "                        name = 'embeding_1'\n",
        ")"
      ],
      "metadata": {
        "id": "XdDwGRXLAJ_3"
      },
      "execution_count": 64,
      "outputs": []
    },
    {
      "cell_type": "markdown",
      "source": [
        "Попередня оцінку точності моделі за допомогою методу Naive Bayes"
      ],
      "metadata": {
        "id": "KdOAtSteAOQ8"
      }
    },
    {
      "cell_type": "code",
      "source": [
        "from sklearn.feature_extraction.text import TfidfVectorizer\n",
        "from sklearn.naive_bayes import MultinomialNB\n",
        "from sklearn.pipeline import Pipeline\n",
        "model_0= Pipeline([ \n",
        "    (\"tfidf\",TfidfVectorizer()), \n",
        "    (\"clf\", MultinomialNB())\n",
        "])\n",
        "model_0.fit(train_sentences,train_labels)\n",
        "model_0_preds = model_0.predict(test_sentences)\n",
        "model_0_results = calculate_results(test_labels,model_0_preds)\n",
        "model_0_results \n"
      ],
      "metadata": {
        "id": "HoVstf0JAO3N",
        "colab": {
          "base_uri": "https://localhost:8080/"
        },
        "outputId": "33962305-7ae5-4e30-aa80-acd9b9747500"
      },
      "execution_count": 65,
      "outputs": [
        {
          "output_type": "execute_result",
          "data": {
            "text/plain": [
              "{'accuracy': 63.26666666666667,\n",
              " 'f1': 0.6310322838115413,\n",
              " 'precision': 0.633955337774088,\n",
              " 'recall': 0.6326666666666667}"
            ]
          },
          "metadata": {},
          "execution_count": 65
        }
      ]
    },
    {
      "cell_type": "markdown",
      "source": [
        "Вирішення задачі класифікації за допомогою методу  Bidirectional-GRU"
      ],
      "metadata": {
        "id": "mdt3DVm2AYH2"
      }
    },
    {
      "cell_type": "code",
      "source": [
        "from tensorflow.keras import layers\n",
        "inputs = layers.Input(shape=(1,), dtype=\"string\")\n",
        "x = text_vectorizer(inputs)\n",
        "x = embedding(x)\n",
        "x = layers.Bidirectional(layers.GRU(64, return_sequences=True))(x) \n",
        "x = layers.Bidirectional(layers.GRU(64))(x) \n",
        "outputs = layers.Dense(3, activation=\"softmax\")(x)\n",
        "model_1 = tf.keras.Model(inputs, outputs, name=\"Bidirectional_GRU\")"
      ],
      "metadata": {
        "id": "c1zKdRnqAgp3"
      },
      "execution_count": 66,
      "outputs": []
    },
    {
      "cell_type": "code",
      "source": [
        "model_1.compile(loss=\"sparse_categorical_crossentropy\",\n",
        "                optimizer=tf.keras.optimizers.Adam(),\n",
        "                metrics=[\"accuracy\"])"
      ],
      "metadata": {
        "id": "trLxmzugA8gV"
      },
      "execution_count": 67,
      "outputs": []
    },
    {
      "cell_type": "code",
      "source": [
        "model_1.summary()"
      ],
      "metadata": {
        "id": "f1Xcd1DKA-HM",
        "colab": {
          "base_uri": "https://localhost:8080/"
        },
        "outputId": "1fcbf8ee-523d-4d6d-ba87-564a5f6c9b2e"
      },
      "execution_count": 68,
      "outputs": [
        {
          "output_type": "stream",
          "name": "stdout",
          "text": [
            "Model: \"Bidirectional_GRU\"\n",
            "_________________________________________________________________\n",
            " Layer (type)                Output Shape              Param #   \n",
            "=================================================================\n",
            " input_2 (InputLayer)        [(None, 1)]               0         \n",
            "                                                                 \n",
            " text_vectorization_1 (TextV  (None, 9)                0         \n",
            " ectorization)                                                   \n",
            "                                                                 \n",
            " embeding_1 (Embedding)      (None, 9, 128)            1280000   \n",
            "                                                                 \n",
            " bidirectional_2 (Bidirectio  (None, 9, 128)           74496     \n",
            " nal)                                                            \n",
            "                                                                 \n",
            " bidirectional_3 (Bidirectio  (None, 128)              74496     \n",
            " nal)                                                            \n",
            "                                                                 \n",
            " dense_1 (Dense)             (None, 3)                 387       \n",
            "                                                                 \n",
            "=================================================================\n",
            "Total params: 1,429,379\n",
            "Trainable params: 1,429,379\n",
            "Non-trainable params: 0\n",
            "_________________________________________________________________\n"
          ]
        }
      ]
    },
    {
      "cell_type": "code",
      "source": [
        "plot_model(model_1, show_layer_names=True)"
      ],
      "metadata": {
        "id": "ZuimKK1TBBRD",
        "colab": {
          "base_uri": "https://localhost:8080/",
          "height": 564
        },
        "outputId": "4a74fb7c-5fc7-4519-8def-895908b3cbf6"
      },
      "execution_count": 69,
      "outputs": [
        {
          "output_type": "execute_result",
          "data": {
            "image/png": "[encoded data removed]",
            "text/plain": [
              "<IPython.core.display.Image object>"
            ]
          },
          "metadata": {},
          "execution_count": 69
        }
      ]
    },
    {
      "cell_type": "code",
      "source": [
        ""
      ],
      "metadata": {
        "id": "SQcD2w2AMQyI"
      },
      "execution_count": 69,
      "outputs": []
    },
    {
      "cell_type": "code",
      "source": [
        "model_1_history = model_1.fit(train_sentences,\n",
        "                              train_labels,\n",
        "                              epochs=5,\n",
        "                              validation_data=(test_sentences, test_labels),\n",
        "                              )"
      ],
      "metadata": {
        "id": "BTv0au6nBF9r",
        "colab": {
          "base_uri": "https://localhost:8080/"
        },
        "outputId": "89b74df6-c622-43d3-fcab-d684b482faa9"
      },
      "execution_count": null,
      "outputs": [
        {
          "output_type": "stream",
          "name": "stdout",
          "text": [
            "Epoch 1/5\n",
            "1688/1688 [==============================] - 78s 42ms/step - loss: 0.8433 - accuracy: 0.5938 - val_loss: 0.8149 - val_accuracy: 0.6042\n",
            "Epoch 2/5\n",
            "1688/1688 [==============================] - 69s 41ms/step - loss: 0.7253 - accuracy: 0.6667 - val_loss: 0.8022 - val_accuracy: 0.6152\n",
            "Epoch 3/5\n",
            "1688/1688 [==============================] - 68s 40ms/step - loss: 0.6471 - accuracy: 0.7067 - val_loss: 0.8263 - val_accuracy: 0.6150\n",
            "Epoch 4/5\n",
            " 361/1688 [=====>........................] - ETA: 52s - loss: 0.5456 - accuracy: 0.7564"
          ]
        }
      ]
    },
    {
      "cell_type": "code",
      "source": [
        "model_1_pred_probs = model_1.predict(test_sentences)\n",
        "model_1_preds = tf.squeeze(tf.argmax(model_1_pred_probs, axis = 1))\n",
        "model_1_preds"
      ],
      "metadata": {
        "id": "pz9aiMy5BKLY"
      },
      "execution_count": null,
      "outputs": []
    },
    {
      "cell_type": "code",
      "source": [
        "model_1_results = calculate_results(y_true = test_labels, y_pred = model_1_preds)\n",
        "model_1_results "
      ],
      "metadata": {
        "id": "z9FDHV46BMRx"
      },
      "execution_count": null,
      "outputs": []
    },
    {
      "cell_type": "markdown",
      "source": [
        "Графічне відображення тренування моделі"
      ],
      "metadata": {
        "id": "Wf6VOQ7QBviN"
      }
    },
    {
      "cell_type": "code",
      "source": [
        "plot_history(model_1_history)"
      ],
      "metadata": {
        "id": "VxHMujLuBx5L"
      },
      "execution_count": null,
      "outputs": []
    },
    {
      "cell_type": "markdown",
      "source": [
        "Порівняння результатів, отриманих у п.п. 3,4"
      ],
      "metadata": {
        "id": "bshWFL3YB0Tu"
      }
    },
    {
      "cell_type": "code",
      "source": [
        "compare_baseline_to_new_results(model_0_results, model_1_results)"
      ],
      "metadata": {
        "id": "QkcNZ1SiB2m1"
      },
      "execution_count": null,
      "outputs": []
    },
    {
      "cell_type": "code",
      "source": [
        "df_compare = pd.DataFrame({'Baseline': model_0_results ,\n",
        "                            'Bidirectional_GRU' : model_1_results\n",
        "                           })\n",
        "df_compare"
      ],
      "metadata": {
        "id": "8y__C3qGB40i"
      },
      "execution_count": null,
      "outputs": []
    },
    {
      "cell_type": "code",
      "source": [
        "#df_compare.to_csv('df_compare.csv')"
      ],
      "metadata": {
        "id": "-iLEp50eB63b"
      },
      "execution_count": null,
      "outputs": []
    }
  ]
}